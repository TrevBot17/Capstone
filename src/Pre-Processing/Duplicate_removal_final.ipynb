{
 "cells": [
  {
   "cell_type": "code",
   "execution_count": null,
   "id": "43d83d03",
   "metadata": {
    "id": "43d83d03"
   },
   "outputs": [],
   "source": [
    "import os\n",
    "import nltk\n",
    "import time"
   ]
  },
  {
   "cell_type": "code",
   "execution_count": null,
   "id": "ghjeIwvt-9R1",
   "metadata": {
    "colab": {
     "base_uri": "https://localhost:8080/"
    },
    "id": "ghjeIwvt-9R1",
    "outputId": "7e7836fc-7f96-435b-d870-b997134fc84f"
   },
   "outputs": [],
   "source": [
    "working_dir = 'C:/Users/JWeinstein/Capstone-main/src/'"
   ]
  },
  {
   "cell_type": "code",
   "execution_count": null,
   "id": "514fc678",
   "metadata": {
    "id": "514fc678"
   },
   "outputs": [],
   "source": [
    "def jaccard_similarity(list_x, list_y):\n",
    "    'get jaccard similartiy of two documents'\n",
    "    \n",
    "    set_x = set(list_x)\n",
    "    set_y = set(list_y)\n",
    "    intersection = set_x.intersection(set_y)\n",
    "    union = set_x.union(set_y)\n",
    "    \n",
    "    return len(intersection) / len(union) if len(union) > 0 else 0\n",
    "\n",
    "def shingling_jaccard_similarity(text_x, text_y, n):\n",
    "    'calculate similarity score between two documents using the shingling approach'\n",
    "    \n",
    "    x_ngrams=list(nltk.ngrams(text_x.split(\" \"),n))      \n",
    "    y_ngrams=list(nltk.ngrams(text_y.split(\" \"),n))    \n",
    "    # call function jaccard_similarity \n",
    "    sim_score=jaccard_similarity(x_ngrams,y_ngrams)\n",
    "    \n",
    "    return sim_score"
   ]
  },
  {
   "cell_type": "code",
   "execution_count": null,
   "id": "44f0ea3b",
   "metadata": {
    "colab": {
     "base_uri": "https://localhost:8080/"
    },
    "id": "44f0ea3b",
    "outputId": "7b97e41d-3922-43ae-ee5f-498851406857"
   },
   "outputs": [],
   "source": [
    "# code adapted from https://dida.do/blog/how-to-identify-duplicate-files-with-python\n",
    "\n",
    "directory = f\"{working_dir}Raw_TXT_Downloads\"\n",
    "files = sorted(os.listdir(directory), key=lambda x: int(x.split(')')[0]))\n",
    "\n",
    "# initialize list containing the classes of documents with the same content\n",
    "duplicates = []\n",
    "\n",
    "# get start time\n",
    "startTime = time.time()\n",
    "\n",
    "# comparison of the documents - nested loop approach\n",
    "# loop through all files in given path\n",
    "for file_name in files:\n",
    "    # open document and get the text\n",
    "    f = os.path.join(directory, file_name)\n",
    "    with open(f, 'r', encoding=\"utf8\") as file:\n",
    "        url = file.readline().strip()\n",
    "        title = file.readline().strip()\n",
    "        text = file.read()\n",
    "    \n",
    "    is_duplicate = False\n",
    "    \n",
    "    # loop through list duplicates, calculate shingling_jaccard_similarity and check if it is duplicate by comparing \n",
    "    # the shingling_jaccard_similarity against a threshold of 0.95\n",
    "    for class_ in duplicates:\n",
    "        # open first document in class_ in list duplicates\n",
    "        f = os.path.join(directory, class_[0])\n",
    "        with open(f, 'r', encoding=\"utf8\") as file:\n",
    "            url = file.readline().strip()\n",
    "            title = file.readline().strip()\n",
    "            class_text = file.read()     \n",
    "        \n",
    "        # call function shingling_jaccard_similarity, with trigrams (n=3)\n",
    "        shing_jaccard = shingling_jaccard_similarity(text, class_text, 3)\n",
    "#         print(shing_jaccard)\n",
    "        \n",
    "        if shing_jaccard > 0.95:\n",
    "            is_duplicate = True\n",
    "        else:\n",
    "            is_duplicate = False\n",
    "\n",
    "#         print(is_duplicate)\n",
    "        if is_duplicate:\n",
    "            class_.append(file_name)            \n",
    "            break\n",
    "    \n",
    "    if not is_duplicate:\n",
    "        duplicates.append([file_name])"
   ]
  },
  {
   "cell_type": "code",
   "execution_count": null,
   "id": "044d81da",
   "metadata": {
    "id": "044d81da"
   },
   "outputs": [],
   "source": [
    "# remove the duplicates from directory: only keep the first document within the inner lists \n",
    "for class_ in duplicates:\n",
    "    for file in class_[1:]:\n",
    "        os.remove(os.path.join(directory, file))"
   ]
  }
 ],
 "metadata": {
  "colab": {
   "provenance": []
  },
  "kernelspec": {
   "display_name": "Python 3 (ipykernel)",
   "language": "python",
   "name": "python3"
  },
  "language_info": {
   "codemirror_mode": {
    "name": "ipython",
    "version": 3
   },
   "file_extension": ".py",
   "mimetype": "text/x-python",
   "name": "python",
   "nbconvert_exporter": "python",
   "pygments_lexer": "ipython3",
   "version": "3.9.12"
  }
 },
 "nbformat": 4,
 "nbformat_minor": 5
}
