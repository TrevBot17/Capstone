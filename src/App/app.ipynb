{
 "cells": [
  {
   "cell_type": "code",
   "execution_count": null,
   "id": "d0ec0774",
   "metadata": {},
   "outputs": [],
   "source": [
    "from math import ceil\n",
    "from flask import Flask, render_template, request\n",
    "from search_engine import query_prep, OkapiBM25\n",
    "import pickle\n",
    "\n",
    "app = Flask(__name__)\n",
    "@app.route('/')\n",
    "def results():\n",
    "    return render_template('index.html', page = -1)\n",
    "\n",
    "@app.route('/search/<int:page>', methods=['POST'])\n",
    "def index(page):\n",
    "    with open(\"inv_index.pickle\", \"rb\") as file:\n",
    "        inv_ind = pickle.load(file)\n",
    "    user_search_query = request.form.get('query')\n",
    "\n",
    "    \n",
    "    queries = {'q': query_prep(user_search_query)}\n",
    "    ranking = OkapiBM25(inv_ind, queries)['q']\n",
    "\n",
    "    newRes= []\n",
    "    myDict = pickle.load(open('text_summaries.pickle','rb'))\n",
    "    \n",
    "    for r in ranking:\n",
    "        newRes.append((r[1], r[2], myDict[r[1]]))\n",
    "   \n",
    "    start = 0+(page*10)\n",
    "    end = start + 10\n",
    "    upper = ceil((len(newRes)/10))\n",
    "\n",
    "    subset = newRes[start:end]\n",
    "    if end > len(newRes):\n",
    "        end = len(newRes)\n",
    "    return render_template('index.html', search_results_list = subset,\n",
    "                                          user_query=user_search_query,\n",
    "                                          lower = 0,\n",
    "                                          upper = upper,\n",
    "                                          page = page,\n",
    "                                          start = start,\n",
    "                                          end = end,\n",
    "                                          total = len(newRes))\n",
    "\n",
    "\n",
    "if __name__ == \"__main__\":\n",
    "    app.run()"
   ]
  }
 ],
 "metadata": {
  "kernelspec": {
   "display_name": "Python 3 (ipykernel)",
   "language": "python",
   "name": "python3"
  },
  "language_info": {
   "codemirror_mode": {
    "name": "ipython",
    "version": 3
   },
   "file_extension": ".py",
   "mimetype": "text/x-python",
   "name": "python",
   "nbconvert_exporter": "python",
   "pygments_lexer": "ipython3",
   "version": "3.9.7"
  }
 },
 "nbformat": 4,
 "nbformat_minor": 5
}
