{
 "cells": [
  {
   "cell_type": "code",
   "execution_count": 1,
   "id": "2d9262c0",
   "metadata": {},
   "outputs": [
    {
     "name": "stdout",
     "output_type": "stream",
     "text": [
      " * Serving Flask app \"__main__\" (lazy loading)\n",
      " * Environment: production\n",
      "\u001b[31m   WARNING: This is a development server. Do not use it in a production deployment.\u001b[0m\n",
      "\u001b[2m   Use a production WSGI server instead.\u001b[0m\n",
      " * Debug mode: off\n"
     ]
    },
    {
     "name": "stderr",
     "output_type": "stream",
     "text": [
      " * Running on http://127.0.0.1:5000/ (Press CTRL+C to quit)\n",
      "127.0.0.1 - - [04/Dec/2022 13:19:13] \"GET / HTTP/1.1\" 200 -\n",
      "127.0.0.1 - - [04/Dec/2022 13:19:13] \"GET /css/custom-style.css HTTP/1.1\" 404 -\n",
      "127.0.0.1 - - [04/Dec/2022 13:19:13] \"GET /JavaScript/jquery-1.10.2.js HTTP/1.1\" 404 -\n",
      "127.0.0.1 - - [04/Dec/2022 13:19:16] \"POST /search/0 HTTP/1.1\" 200 -\n",
      "127.0.0.1 - - [04/Dec/2022 13:19:16] \"GET /search/css/custom-style.css HTTP/1.1\" 404 -\n",
      "127.0.0.1 - - [04/Dec/2022 13:19:16] \"GET /search/JavaScript/jquery-1.10.2.js HTTP/1.1\" 404 -\n",
      "127.0.0.1 - - [04/Dec/2022 13:20:02] \"POST /search/0 HTTP/1.1\" 200 -\n",
      "127.0.0.1 - - [04/Dec/2022 13:20:02] \"GET /search/css/custom-style.css HTTP/1.1\" 404 -\n",
      "127.0.0.1 - - [04/Dec/2022 13:20:02] \"GET /search/JavaScript/jquery-1.10.2.js HTTP/1.1\" 404 -\n"
     ]
    }
   ],
   "source": [
    "from math import ceil\n",
    "from flask import Flask, render_template, request\n",
    "from search_engine import query_prep, OkapiBM25\n",
    "import pickle\n",
    "working_dir = 'C:/Users/JWeinstein/Capstone-main'\n",
    "app = Flask(__name__)\n",
    "@app.route('/')\n",
    "def results():\n",
    "    return render_template('index.html', page = -1)\n",
    "\n",
    "@app.route('/search/<int:page>', methods=['POST'])\n",
    "def index(page):\n",
    "    with open(f\"{working_dir}/src/inv_index.pickle\", \"rb\") as file:\n",
    "        inv_ind = pickle.load(file)\n",
    "    user_search_query = request.form.get('query')\n",
    "\n",
    "    \n",
    "    queries = {'q': query_prep(user_search_query)}\n",
    "    ranking = OkapiBM25(inv_ind, queries)['q']\n",
    "    seen = set()\n",
    "\n",
    "    newRes= []\n",
    "    myDict = pickle.load(open(f'{working_dir}/src/text_summaries.pickle','rb'))\n",
    "    \n",
    "    for r in ranking:\n",
    "        newRes.append((r[1], r[2], myDict[r[1]]))\n",
    "   \n",
    "    start = 0+(page*10)\n",
    "    end = start + 10\n",
    "    upper = ceil((len(newRes)/10))\n",
    "\n",
    "    subset = newRes[start:end]\n",
    "    if end > len(newRes):\n",
    "        end = len(newRes)\n",
    "    return render_template('index.html', search_results_list = subset,\n",
    "                                          user_query=user_search_query,\n",
    "                                          lower = 0,\n",
    "                                          upper = upper,\n",
    "                                          page = page,\n",
    "                                          start = start,\n",
    "                                          end = end,\n",
    "                                          total = len(newRes))\n",
    "\n",
    "\n",
    "if __name__ == \"__main__\":\n",
    "    app.run()"
   ]
  },
  {
   "cell_type": "code",
   "execution_count": null,
   "id": "e3836992",
   "metadata": {},
   "outputs": [],
   "source": []
  }
 ],
 "metadata": {
  "kernelspec": {
   "display_name": "Python 3 (ipykernel)",
   "language": "python",
   "name": "python3"
  },
  "language_info": {
   "codemirror_mode": {
    "name": "ipython",
    "version": 3
   },
   "file_extension": ".py",
   "mimetype": "text/x-python",
   "name": "python",
   "nbconvert_exporter": "python",
   "pygments_lexer": "ipython3",
   "version": "3.9.12"
  }
 },
 "nbformat": 4,
 "nbformat_minor": 5
}
